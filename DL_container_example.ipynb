{
 "cells": [
  {
   "cell_type": "markdown",
   "id": "conservative-buddy",
   "metadata": {},
   "source": [
    "### AWS Deep Learning Container ECR login"
   ]
  },
  {
   "cell_type": "code",
   "execution_count": 1,
   "id": "abandoned-gambling",
   "metadata": {},
   "outputs": [
    {
     "name": "stdout",
     "output_type": "stream",
     "text": [
      "WARNING! Your password will be stored unencrypted in /home/ubuntu/.docker/config.json.\n",
      "Configure a credential helper to remove this warning. See\n",
      "https://docs.docker.com/engine/reference/commandline/login/#credentials-store\n",
      "\n",
      "Login Succeeded\n"
     ]
    }
   ],
   "source": [
    "!aws ecr get-login-password --region us-west-2 | docker login --username AWS --password-stdin 763104351884.dkr.ecr.us-west-2.amazonaws.com"
   ]
  },
  {
   "cell_type": "markdown",
   "id": "medium-entry",
   "metadata": {},
   "source": [
    "### TensorFlow CPU container"
   ]
  },
  {
   "cell_type": "code",
   "execution_count": 2,
   "id": "illegal-receipt",
   "metadata": {},
   "outputs": [
    {
     "name": "stdout",
     "output_type": "stream",
     "text": [
      "2.4.1-cpu-py37-ubuntu18.04: Pulling from tensorflow-training\n",
      "Digest: sha256:c2c43a2023cdfa7400f78da0568e0dd907f745a3500495d5a3f83800cba616c5\n",
      "Status: Image is up to date for 763104351884.dkr.ecr.us-west-2.amazonaws.com/tensorflow-training:2.4.1-cpu-py37-ubuntu18.04\n",
      "763104351884.dkr.ecr.us-west-2.amazonaws.com/tensorflow-training:2.4.1-cpu-py37-ubuntu18.04\n"
     ]
    }
   ],
   "source": [
    "!docker pull 763104351884.dkr.ecr.us-west-2.amazonaws.com/tensorflow-training:2.4.1-cpu-py37-ubuntu18.04"
   ]
  },
  {
   "cell_type": "code",
   "execution_count": 3,
   "id": "married-transition",
   "metadata": {},
   "outputs": [
    {
     "name": "stdout",
     "output_type": "stream",
     "text": [
      "REPOSITORY                                                         TAG                                IMAGE ID       CREATED        SIZE\n",
      "453691756499.dkr.ecr.us-west-2.amazonaws.com/eks-ml-containers     latest-gpu                         420ab1625d32   42 hours ago   8.91GB\n",
      "eks-ml-containers                                                  latest-gpu                         420ab1625d32   42 hours ago   8.91GB\n",
      "453691756499.dkr.ecr.us-west-2.amazonaws.com/eks-ml-containers     latest                             b2afe528ecbc   43 hours ago   2.32GB\n",
      "453691756499.dkr.ecr.us-west-2.amazonaws.com/eks-ml-containers     latest-cpu                         b2afe528ecbc   43 hours ago   2.32GB\n",
      "eks-ml-containers                                                  latest                             b2afe528ecbc   43 hours ago   2.32GB\n",
      "eks-ml-containers                                                  latest-cpu                         b2afe528ecbc   43 hours ago   2.32GB\n",
      "453691756499.dkr.ecr.us-west-2.amazonaws.com/eks-ml-containers     <none>                             5a1dec479a2c   43 hours ago   2.32GB\n",
      "763104351884.dkr.ecr.us-west-2.amazonaws.com/tensorflow-training   2.4.1-gpu-py37-cu110-ubuntu18.04   8467bc1c5070   5 days ago     8.91GB\n",
      "763104351884.dkr.ecr.us-east-1.amazonaws.com/tensorflow-training   2.4.1-cpu-py37-ubuntu18.04         b9f94444f73b   10 days ago    2.32GB\n",
      "763104351884.dkr.ecr.us-west-2.amazonaws.com/tensorflow-training   2.4.1-cpu-py37-ubuntu18.04         b9f94444f73b   10 days ago    2.32GB\n"
     ]
    }
   ],
   "source": [
    "!docker images"
   ]
  },
  {
   "cell_type": "code",
   "execution_count": null,
   "id": "angry-hawaiian",
   "metadata": {},
   "outputs": [],
   "source": []
  }
 ],
 "metadata": {
  "kernelspec": {
   "display_name": "Environment (conda_tensorflow2_p36)",
   "language": "python",
   "name": "conda_tensorflow2_p36"
  },
  "language_info": {
   "codemirror_mode": {
    "name": "ipython",
    "version": 3
   },
   "file_extension": ".py",
   "mimetype": "text/x-python",
   "name": "python",
   "nbconvert_exporter": "python",
   "pygments_lexer": "ipython3",
   "version": "3.6.13"
  }
 },
 "nbformat": 4,
 "nbformat_minor": 5
}
