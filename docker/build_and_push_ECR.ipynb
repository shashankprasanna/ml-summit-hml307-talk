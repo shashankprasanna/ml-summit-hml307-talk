{
 "cells": [
  {
   "cell_type": "code",
   "execution_count": 1,
   "id": "fabulous-cornwall",
   "metadata": {},
   "outputs": [],
   "source": [
    "import boto3\n",
    "sess = boto3.Session()\n",
    "s3 = boto3.resource('s3')"
   ]
  },
  {
   "cell_type": "code",
   "execution_count": 2,
   "id": "accomplished-bibliography",
   "metadata": {},
   "outputs": [],
   "source": [
    "ecr_repo_name = 'eks-ml-containers'\n",
    "\n",
    "region = boto3.Session().region_name\n",
    "account = boto3.client('sts').get_caller_identity().get('Account')\n",
    "image_cpu = '{}.dkr.ecr.{}.amazonaws.com/{}:latest-cpu'.format(account, region, ecr_repo_name)\n",
    "image_gpu = '{}.dkr.ecr.{}.amazonaws.com/{}:latest-gpu'.format(account, region, ecr_repo_name)"
   ]
  },
  {
   "cell_type": "code",
   "execution_count": 3,
   "id": "precious-bible",
   "metadata": {},
   "outputs": [
    {
     "name": "stdout",
     "output_type": "stream",
     "text": [
      "\n",
      "An error occurred (RepositoryAlreadyExistsException) when calling the CreateRepository operation: The repository with name 'eks-ml-containers' already exists in the registry with id '453691756499'\n"
     ]
    }
   ],
   "source": [
    "!aws ecr create-repository --repository-name {ecr_repo_name}"
   ]
  },
  {
   "cell_type": "code",
   "execution_count": 4,
   "id": "dense-banana",
   "metadata": {},
   "outputs": [
    {
     "name": "stdout",
     "output_type": "stream",
     "text": [
      "WARNING! Your password will be stored unencrypted in /home/ubuntu/.docker/config.json.\n",
      "Configure a credential helper to remove this warning. See\n",
      "https://docs.docker.com/engine/reference/commandline/login/#credentials-store\n",
      "\n",
      "Login Succeeded\n",
      "Sending build context to Docker daemon  122.9kB\n",
      "Step 1/3 : FROM 763104351884.dkr.ecr.us-west-2.amazonaws.com/tensorflow-training:2.4.1-cpu-py37-ubuntu18.04\n",
      " ---> b9f94444f73b\n",
      "Step 2/3 : COPY tf2_cifar10.py /opt/ml/code/tf2_cifar10.py\n",
      " ---> Using cache\n",
      " ---> 9d14bbfc9e2e\n",
      "Step 3/3 : ENTRYPOINT [\"python\", \"/opt/ml/code/tf2_cifar10.py\"]\n",
      " ---> Using cache\n",
      " ---> b2afe528ecbc\n",
      "Successfully built b2afe528ecbc\n",
      "Successfully tagged eks-ml-containers:latest-cpu\n",
      "Sending build context to Docker daemon  122.9kB\n",
      "Step 1/3 : FROM 763104351884.dkr.ecr.us-west-2.amazonaws.com/tensorflow-training:2.4.1-gpu-py37-cu110-ubuntu18.04\n",
      " ---> 8467bc1c5070\n",
      "Step 2/3 : COPY tf2_cifar10.py /opt/ml/code/tf2_cifar10.py\n",
      " ---> Using cache\n",
      " ---> 3f82f579022e\n",
      "Step 3/3 : ENTRYPOINT [\"python\", \"/opt/ml/code/tf2_cifar10.py\"]\n",
      " ---> Using cache\n",
      " ---> 420ab1625d32\n",
      "Successfully built 420ab1625d32\n",
      "Successfully tagged eks-ml-containers:latest-gpu\n"
     ]
    }
   ],
   "source": [
    "!aws ecr get-login-password --region us-west-2 | docker login --username AWS --password-stdin 763104351884.dkr.ecr.us-west-2.amazonaws.com\n",
    "!docker build -t {ecr_repo_name}:latest-cpu -f Dockerfile.cpu .\n",
    "!docker build -t {ecr_repo_name}:latest-gpu -f Dockerfile.gpu ."
   ]
  },
  {
   "cell_type": "code",
   "execution_count": 5,
   "id": "refined-wayne",
   "metadata": {},
   "outputs": [
    {
     "name": "stdout",
     "output_type": "stream",
     "text": [
      "WARNING! Using --password via the CLI is insecure. Use --password-stdin.\n",
      "WARNING! Your password will be stored unencrypted in /home/ubuntu/.docker/config.json.\n",
      "Configure a credential helper to remove this warning. See\n",
      "https://docs.docker.com/engine/reference/commandline/login/#credentials-store\n",
      "\n",
      "Login Succeeded\n",
      "The push refers to repository [453691756499.dkr.ecr.us-west-2.amazonaws.com/eks-ml-containers]\n",
      "\n",
      "\u001b[1B8ffe7374: Preparing \n",
      "\u001b[1B776c5349: Preparing \n",
      "\u001b[1B9e3bc3fc: Preparing \n",
      "\u001b[1Bb299b2c6: Preparing \n",
      "\u001b[1B27dfc916: Preparing \n",
      "\u001b[1B876691d9: Preparing \n",
      "\u001b[1B0c18afaf: Preparing \n",
      "\u001b[1B6f73a491: Preparing \n",
      "\u001b[1B7bdd3d27: Preparing \n",
      "\u001b[1B5a895314: Preparing \n",
      "\u001b[1B0d3ec004: Preparing \n",
      "\u001b[1Bf2893f29: Preparing \n",
      "\u001b[1B87643a94: Preparing \n",
      "\u001b[1B26201183: Preparing \n",
      "\u001b[1Bfd80d0fa: Preparing \n",
      "\u001b[1B9bd8d228: Preparing \n",
      "\u001b[1B7ead7770: Preparing \n",
      "\u001b[1Bc6d2db45: Preparing \n",
      "\u001b[1Bbacb0351: Preparing \n",
      "\u001b[1Be1acaabc: Layer already exists \u001b[16A\u001b[2K\u001b[12A\u001b[2K\u001b[5A\u001b[2Klatest-cpu: digest: sha256:00bcde93629cae8491782f3f5c72aea71f4f0bdcf2145d63e4286a1016e431e2 size: 4509\n",
      "The push refers to repository [453691756499.dkr.ecr.us-west-2.amazonaws.com/eks-ml-containers]\n",
      "\n",
      "\u001b[1B9fa6b1cd: Preparing \n",
      "\u001b[1B67dc4bde: Preparing \n",
      "\u001b[1B541afc5b: Preparing \n",
      "\u001b[1B5f71f1c9: Preparing \n",
      "\u001b[1B17d615b8: Preparing \n",
      "\u001b[1B1e9ec35a: Preparing \n",
      "\u001b[1Bc832c708: Preparing \n",
      "\u001b[1B6ac790ce: Preparing \n",
      "\u001b[1Bb5a945df: Preparing \n",
      "\u001b[1B11630c0d: Preparing \n",
      "\u001b[1B058ee7ba: Preparing \n",
      "\u001b[1B9da5002e: Preparing \n",
      "\u001b[1B02f93d58: Preparing \n",
      "\u001b[1B31187621: Preparing \n",
      "\u001b[1B9c231a31: Preparing \n",
      "\u001b[1B2de9400d: Preparing \n",
      "\u001b[1B5be1e937: Preparing \n",
      "\u001b[9B11630c0d: Waiting g \n",
      "\u001b[1Bc78f7b49: Preparing \n",
      "\u001b[10B58ee7ba: Waiting g \n",
      "\u001b[1Be850fcc0: Preparing \n",
      "\u001b[8B9c231a31: Waiting g \n",
      "\u001b[12Bda5002e: Waiting g \n",
      "\u001b[19Be9ec35a: Waiting g \n",
      "\u001b[1B6bef6ec7: Preparing \n",
      "\u001b[14B2f93d58: Waiting g \n",
      "\u001b[21B832c708: Waiting g \n",
      "\u001b[13Bde9400d: Waiting g \n",
      "\u001b[13Bbe1e937: Waiting g \n",
      "\u001b[1B4dce1444: Preparing \n",
      "\u001b[14B18901e8: Waiting g \n",
      "\u001b[1Be116c0c0: Preparing \n",
      "\u001b[1B4df0ad6c: Preparing \n",
      "\u001b[1Bdf553184: Preparing \n",
      "\u001b[2Bdf553184: Layer already exists \u001b[31A\u001b[2K\u001b[26A\u001b[2K\u001b[25A\u001b[2K\u001b[19A\u001b[2K\u001b[15A\u001b[2K\u001b[8A\u001b[2K\u001b[1A\u001b[2Klatest-gpu: digest: sha256:9918120da2f02aded335ff6125fc5ffd2dc65517616bc39fc77c0fdc2b01d07c size: 7668\n"
     ]
    }
   ],
   "source": [
    "!$(aws ecr get-login --no-include-email --region {region})\n",
    "\n",
    "!docker tag {ecr_repo_name}:latest-cpu {image_cpu}\n",
    "!docker push {image_cpu}\n",
    "\n",
    "!docker tag {ecr_repo_name}:latest-gpu {image_gpu}\n",
    "!docker push {image_gpu}"
   ]
  },
  {
   "cell_type": "code",
   "execution_count": null,
   "id": "offensive-premiere",
   "metadata": {},
   "outputs": [],
   "source": []
  }
 ],
 "metadata": {
  "kernelspec": {
   "display_name": "Environment (conda_tensorflow2_p36)",
   "language": "python",
   "name": "conda_tensorflow2_p36"
  },
  "language_info": {
   "codemirror_mode": {
    "name": "ipython",
    "version": 3
   },
   "file_extension": ".py",
   "mimetype": "text/x-python",
   "name": "python",
   "nbconvert_exporter": "python",
   "pygments_lexer": "ipython3",
   "version": "3.6.13"
  }
 },
 "nbformat": 4,
 "nbformat_minor": 5
}
